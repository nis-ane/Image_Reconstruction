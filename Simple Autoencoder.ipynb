{
 "cells": [
  {
   "cell_type": "code",
   "execution_count": 4,
   "id": "286a2624",
   "metadata": {},
   "outputs": [
    {
     "name": "stderr",
     "output_type": "stream",
     "text": [
      "2023-04-14 17:16:17.088100: I tensorflow/core/platform/cpu_feature_guard.cc:182] This TensorFlow binary is optimized to use available CPU instructions in performance-critical operations.\n",
      "To enable the following instructions: AVX2 FMA, in other operations, rebuild TensorFlow with the appropriate compiler flags.\n",
      "2023-04-14 17:16:23.036383: W tensorflow/compiler/tf2tensorrt/utils/py_utils.cc:38] TF-TRT Warning: Could not find TensorRT\n"
     ]
    }
   ],
   "source": [
    "import tensorflow as tf\n",
    "import numpy as np\n",
    "import pandas as pd\n",
    "import cv2\n",
    "import matplotlib.pyplot as plt\n",
    "import os\n",
    "import pickle\n",
    "import keras\n",
    "from keras import layers\n",
    "\n",
    "from tensorflow.keras.applications.efficientnet import EfficientNetB0\n",
    "from tensorflow.keras import applications, callbacks, layers, losses, metrics, models, optimizers, preprocessing"
   ]
  },
  {
   "cell_type": "code",
   "execution_count": 5,
   "id": "a1c3441c",
   "metadata": {},
   "outputs": [],
   "source": [
    "# IMG_SHAPE= (32,32,3)\n",
    "IMG_SHAPE = (28,28,3)\n",
    "code_size = 32\n",
    "BATCH_SIZE = 16"
   ]
  },
  {
   "cell_type": "code",
   "execution_count": 5,
   "id": "b820f5e4",
   "metadata": {},
   "outputs": [
    {
     "name": "stdout",
     "output_type": "stream",
     "text": [
      "Found 2330 images belonging to 1 classes.\n",
      "Found 333 images belonging to 1 classes.\n"
     ]
    }
   ],
   "source": [
    "from tensorflow.keras.preprocessing.image import ImageDataGenerator\n",
    "img_gen = ImageDataGenerator(rescale=1/255)\n",
    "train_img_gen = img_gen.flow_from_directory('./../bloodmnist/train', target_size = IMG_SHAPE[:-1], batch_size =BATCH_SIZE, class_mode='input', color_mode ='rgb', classes = ['6_neutrophil'])#,'1_eosinophil'])\n",
    "validate_img_gen = img_gen.flow_from_directory('./../bloodmnist/val', target_size = IMG_SHAPE[:-1], batch_size =BATCH_SIZE, class_mode='input', color_mode ='rgb', classes = ['6_neutrophil'])#,'1_eosinophil'])"
   ]
  },
  {
   "cell_type": "code",
   "execution_count": 6,
   "id": "9c9af177",
   "metadata": {},
   "outputs": [
    {
     "name": "stdout",
     "output_type": "stream",
     "text": [
      "[[[0.69411767 0.8862746  0.98823535]\n",
      "  [0.7490196  0.882353   0.9960785 ]\n",
      "  [0.8313726  0.882353   1.        ]\n",
      "  ...\n",
      "  [0.7254902  0.6745098  0.8235295 ]\n",
      "  [0.7254902  0.6666667  0.81568635]\n",
      "  [0.7254902  0.654902   0.8078432 ]]\n",
      "\n",
      " [[0.7019608  0.8862746  0.9921569 ]\n",
      "  [0.7607844  0.8862746  1.        ]\n",
      "  [0.8313726  0.882353   1.        ]\n",
      "  ...\n",
      "  [0.65882355 0.6313726  0.77647066]\n",
      "  [0.6666667  0.63529414 0.7803922 ]\n",
      "  [0.6745098  0.6313726  0.7803922 ]]\n",
      "\n",
      " [[0.7254902  0.90196085 1.        ]\n",
      "  [0.76470596 0.89019614 1.        ]\n",
      "  [0.82745105 0.87843144 1.        ]\n",
      "  ...\n",
      "  [0.6        0.60784316 0.74509805]\n",
      "  [0.6117647  0.6117647  0.75294125]\n",
      "  [0.6313726  0.62352943 0.76470596]]\n",
      "\n",
      " ...\n",
      "\n",
      " [[0.79215693 0.8980393  1.        ]\n",
      "  [0.77647066 0.882353   0.9843138 ]\n",
      "  [0.7843138  0.90196085 1.        ]\n",
      "  ...\n",
      "  [0.72156864 0.7254902  0.8745099 ]\n",
      "  [0.6745098  0.67058825 0.8235295 ]\n",
      "  [0.6509804  0.6313726  0.7843138 ]]\n",
      "\n",
      " [[0.7960785  0.90196085 1.        ]\n",
      "  [0.77647066 0.882353   0.9843138 ]\n",
      "  [0.7843138  0.90196085 1.        ]\n",
      "  ...\n",
      "  [0.7058824  0.7019608  0.854902  ]\n",
      "  [0.6627451  0.6509804  0.80392164]\n",
      "  [0.64705884 0.6156863  0.77647066]]\n",
      "\n",
      " [[0.78823537 0.9058824  1.        ]\n",
      "  [0.7686275  0.8862746  0.9843138 ]\n",
      "  [0.78823537 0.8941177  0.9960785 ]\n",
      "  ...\n",
      "  [0.6666667  0.654902   0.8078432 ]\n",
      "  [0.63529414 0.6117647  0.7725491 ]\n",
      "  [0.62352943 0.5921569  0.75294125]]]\n",
      "[[[0.69411767 0.8862746  0.98823535]\n",
      "  [0.7490196  0.882353   0.9960785 ]\n",
      "  [0.8313726  0.882353   1.        ]\n",
      "  ...\n",
      "  [0.7254902  0.6745098  0.8235295 ]\n",
      "  [0.7254902  0.6666667  0.81568635]\n",
      "  [0.7254902  0.654902   0.8078432 ]]\n",
      "\n",
      " [[0.7019608  0.8862746  0.9921569 ]\n",
      "  [0.7607844  0.8862746  1.        ]\n",
      "  [0.8313726  0.882353   1.        ]\n",
      "  ...\n",
      "  [0.65882355 0.6313726  0.77647066]\n",
      "  [0.6666667  0.63529414 0.7803922 ]\n",
      "  [0.6745098  0.6313726  0.7803922 ]]\n",
      "\n",
      " [[0.7254902  0.90196085 1.        ]\n",
      "  [0.76470596 0.89019614 1.        ]\n",
      "  [0.82745105 0.87843144 1.        ]\n",
      "  ...\n",
      "  [0.6        0.60784316 0.74509805]\n",
      "  [0.6117647  0.6117647  0.75294125]\n",
      "  [0.6313726  0.62352943 0.76470596]]\n",
      "\n",
      " ...\n",
      "\n",
      " [[0.79215693 0.8980393  1.        ]\n",
      "  [0.77647066 0.882353   0.9843138 ]\n",
      "  [0.7843138  0.90196085 1.        ]\n",
      "  ...\n",
      "  [0.72156864 0.7254902  0.8745099 ]\n",
      "  [0.6745098  0.67058825 0.8235295 ]\n",
      "  [0.6509804  0.6313726  0.7843138 ]]\n",
      "\n",
      " [[0.7960785  0.90196085 1.        ]\n",
      "  [0.77647066 0.882353   0.9843138 ]\n",
      "  [0.7843138  0.90196085 1.        ]\n",
      "  ...\n",
      "  [0.7058824  0.7019608  0.854902  ]\n",
      "  [0.6627451  0.6509804  0.80392164]\n",
      "  [0.64705884 0.6156863  0.77647066]]\n",
      "\n",
      " [[0.78823537 0.9058824  1.        ]\n",
      "  [0.7686275  0.8862746  0.9843138 ]\n",
      "  [0.78823537 0.8941177  0.9960785 ]\n",
      "  ...\n",
      "  [0.6666667  0.654902   0.8078432 ]\n",
      "  [0.63529414 0.6117647  0.7725491 ]\n",
      "  [0.62352943 0.5921569  0.75294125]]]\n"
     ]
    }
   ],
   "source": [
    "for i, l in train_img_gen:\n",
    "    print(i[0])\n",
    "    print(l[0])\n",
    "    break"
   ]
  },
  {
   "cell_type": "code",
   "execution_count": 6,
   "id": "fd9fd9d9",
   "metadata": {},
   "outputs": [],
   "source": [
    "def build_autoencoder(img_shape, code_size):\n",
    "    H,W,C = img_shape\n",
    "    \n",
    "    # encoder\n",
    "    encoder = keras.models.Sequential()\n",
    "    encoder.add(layers.InputLayer(img_shape))\n",
    "    encoder.add(layers.Conv2D(32,(3,3),padding=\"same\",activation='elu'))\n",
    "    encoder.add(layers.MaxPooling2D(pool_size=(2, 2), strides=None))\n",
    "    encoder.add(layers.Conv2D(64,(3,3),padding=\"same\",activation='elu'))\n",
    "    encoder.add(layers.MaxPooling2D(pool_size=(2, 2), strides=None))\n",
    "    encoder.add(layers.Conv2D(128,(3,3),padding=\"same\",activation='elu'))\n",
    "    encoder.add(layers.MaxPooling2D(pool_size=(2, 2), strides=None))\n",
    "    encoder.add(layers.Conv2D(256,(3,3),padding=\"same\",activation='elu'))\n",
    "    encoder.add(layers.MaxPooling2D(pool_size=(2, 2), strides=None))\n",
    "    encoder.add(layers.Flatten())\n",
    "    encoder.add(layers.Dense(code_size))\n",
    "\n",
    "    # decoder\n",
    "    decoder = keras.models.Sequential()\n",
    "    decoder.add(layers.InputLayer((code_size,)))\n",
    "    decoder.add(layers.Dense(2304))\n",
    "    decoder.add(layers.Reshape((3,3,256)))\n",
    "    decoder.add(layers.Conv2DTranspose(filters=128, kernel_size=(3, 3), strides=2, activation='elu', padding='valid'))\n",
    "    decoder.add(layers.Conv2DTranspose(filters=64, kernel_size=(3, 3), strides=2, activation='elu', padding='same'))\n",
    "    decoder.add(layers.Conv2DTranspose(filters=3, kernel_size=(3, 3), strides=2, activation=None, padding='same'))\n",
    "    \n",
    "    return encoder, decoder"
   ]
  },
  {
   "cell_type": "code",
   "execution_count": 23,
   "id": "e8184e05",
   "metadata": {},
   "outputs": [],
   "source": [
    "def build_efficientnet_autoencoder(img_shape, code_size):\n",
    "    H,W,C = img_shape\n",
    "    \n",
    "    # encoder\n",
    "    pre_trained_cnn = EfficientNetB0(include_top=False, weights='imagenet', input_shape=IMG_SHAPE, pooling='avg')\n",
    "#     freeze_ratio = 0.5\n",
    "#     total_layers = len(pre_trained_cnn.layers)\n",
    "#     for layer in pre_trained_cnn.layers[:int(freeze_ratio * total_layers)]:\n",
    "#         layer.trainable = False\n",
    "\n",
    "    encoder = keras.models.Sequential([\n",
    "        pre_trained_cnn,\n",
    "        layers.Dropout(0.2),\n",
    "        layers.Dense(512, activation=\"elu\"),\n",
    "        layers.Dense(256, activation=\"elu\"),\n",
    "        layers.Dense(128, activation=\"elu\"),\n",
    "        layers.Dense(code_size)\n",
    "    ])\n",
    "\n",
    "    # decoder\n",
    "    decoder = keras.models.Sequential()\n",
    "    decoder.add(layers.InputLayer((code_size,)))\n",
    "    decoder.add(layers.Dense(4096))\n",
    "    decoder.add(layers.Reshape((4,4,256)))\n",
    "    decoder.add(layers.Conv2DTranspose(filters=128, kernel_size=(3, 3), strides=2, activation='elu', padding='same'))\n",
    "    decoder.add(layers.Conv2DTranspose(filters=64, kernel_size=(3, 3), strides=2, activation='elu', padding='same'))\n",
    "    decoder.add(layers.Conv2DTranspose(filters=3, kernel_size=(3, 3), strides=2, activation=None, padding='same'))\n",
    "    \n",
    "    return encoder, decoder"
   ]
  },
  {
   "cell_type": "code",
   "execution_count": 7,
   "id": "b796aeb3",
   "metadata": {},
   "outputs": [
    {
     "name": "stderr",
     "output_type": "stream",
     "text": [
      "2023-04-14 17:16:38.978157: I tensorflow/compiler/xla/stream_executor/cuda/cuda_gpu_executor.cc:996] successful NUMA node read from SysFS had negative value (-1), but there must be at least one NUMA node, so returning NUMA node zero. See more at https://github.com/torvalds/linux/blob/v6.0/Documentation/ABI/testing/sysfs-bus-pci#L344-L355\n",
      "2023-04-14 17:16:38.981068: W tensorflow/core/common_runtime/gpu/gpu_device.cc:1956] Cannot dlopen some GPU libraries. Please make sure the missing libraries mentioned above are installed properly if you would like to use GPU. Follow the guide at https://www.tensorflow.org/install/gpu for how to download and setup the required libraries for your platform.\n",
      "Skipping registering GPU devices...\n"
     ]
    }
   ],
   "source": [
    "encoder, decoder = build_autoencoder(IMG_SHAPE, code_size=32)\n",
    "# encoder, decoder = build_efficientnet_autoencoder((32,32,3), code_size=32)"
   ]
  },
  {
   "cell_type": "code",
   "execution_count": 8,
   "id": "e29cbf3a",
   "metadata": {},
   "outputs": [
    {
     "name": "stdout",
     "output_type": "stream",
     "text": [
      "Model: \"sequential\"\n",
      "_________________________________________________________________\n",
      " Layer (type)                Output Shape              Param #   \n",
      "=================================================================\n",
      " conv2d (Conv2D)             (None, 28, 28, 32)        896       \n",
      "                                                                 \n",
      " max_pooling2d (MaxPooling2D  (None, 14, 14, 32)       0         \n",
      " )                                                               \n",
      "                                                                 \n",
      " conv2d_1 (Conv2D)           (None, 14, 14, 64)        18496     \n",
      "                                                                 \n",
      " max_pooling2d_1 (MaxPooling  (None, 7, 7, 64)         0         \n",
      " 2D)                                                             \n",
      "                                                                 \n",
      " conv2d_2 (Conv2D)           (None, 7, 7, 128)         73856     \n",
      "                                                                 \n",
      " max_pooling2d_2 (MaxPooling  (None, 3, 3, 128)        0         \n",
      " 2D)                                                             \n",
      "                                                                 \n",
      " conv2d_3 (Conv2D)           (None, 3, 3, 256)         295168    \n",
      "                                                                 \n",
      " max_pooling2d_3 (MaxPooling  (None, 1, 1, 256)        0         \n",
      " 2D)                                                             \n",
      "                                                                 \n",
      " flatten (Flatten)           (None, 256)               0         \n",
      "                                                                 \n",
      " dense (Dense)               (None, 32)                8224      \n",
      "                                                                 \n",
      "=================================================================\n",
      "Total params: 396,640\n",
      "Trainable params: 396,640\n",
      "Non-trainable params: 0\n",
      "_________________________________________________________________\n"
     ]
    }
   ],
   "source": [
    "encoder.summary()"
   ]
  },
  {
   "cell_type": "code",
   "execution_count": 46,
   "id": "2035ccb5",
   "metadata": {},
   "outputs": [
    {
     "name": "stdout",
     "output_type": "stream",
     "text": [
      "Model: \"sequential_9\"\n",
      "_________________________________________________________________\n",
      " Layer (type)                Output Shape              Param #   \n",
      "=================================================================\n",
      " dense_15 (Dense)            (None, 2304)              76032     \n",
      "                                                                 \n",
      " reshape_4 (Reshape)         (None, 3, 3, 256)         0         \n",
      "                                                                 \n",
      " conv2d_transpose_12 (Conv2D  (None, 7, 7, 128)        295040    \n",
      " Transpose)                                                      \n",
      "                                                                 \n",
      " conv2d_transpose_13 (Conv2D  (None, 14, 14, 64)       73792     \n",
      " Transpose)                                                      \n",
      "                                                                 \n",
      " conv2d_transpose_14 (Conv2D  (None, 28, 28, 3)        1731      \n",
      " Transpose)                                                      \n",
      "                                                                 \n",
      "=================================================================\n",
      "Total params: 446,595\n",
      "Trainable params: 446,595\n",
      "Non-trainable params: 0\n",
      "_________________________________________________________________\n"
     ]
    }
   ],
   "source": [
    "decoder.summary()"
   ]
  },
  {
   "cell_type": "code",
   "execution_count": 47,
   "id": "f473d1f3",
   "metadata": {},
   "outputs": [],
   "source": [
    "inp = layers.Input(IMG_SHAPE)\n",
    "code = encoder(inp)\n",
    "reconstruction = decoder(code)\n",
    "\n",
    "autoencoder = keras.models.Model(inputs=inp, outputs=reconstruction)\n",
    "autoencoder.compile(optimizer='adamax', loss='mse')\n",
    "\n",
    "checkpoint_filepath = \"efficientnet_noscale_autoencoder_weights_neu.h5\"\n",
    "model_checkpoint_callback = callbacks.ModelCheckpoint(\n",
    "    filepath=checkpoint_filepath,\n",
    "    save_weights_only=True,\n",
    "    monitor='val_loss',\n",
    "    mode='min',\n",
    "    save_best_only=True\n",
    ")"
   ]
  },
  {
   "cell_type": "code",
   "execution_count": 48,
   "id": "a7c95a89",
   "metadata": {},
   "outputs": [
    {
     "name": "stdout",
     "output_type": "stream",
     "text": [
      "Model: \"model_3\"\n",
      "_________________________________________________________________\n",
      " Layer (type)                Output Shape              Param #   \n",
      "=================================================================\n",
      " input_15 (InputLayer)       [(None, 28, 28, 3)]       0         \n",
      "                                                                 \n",
      " sequential_8 (Sequential)   (None, 32)                396640    \n",
      "                                                                 \n",
      " sequential_9 (Sequential)   (None, 28, 28, 3)         446595    \n",
      "                                                                 \n",
      "=================================================================\n",
      "Total params: 843,235\n",
      "Trainable params: 843,235\n",
      "Non-trainable params: 0\n",
      "_________________________________________________________________\n"
     ]
    }
   ],
   "source": [
    "autoencoder.summary()"
   ]
  },
  {
   "cell_type": "code",
   "execution_count": 10,
   "id": "42497d65",
   "metadata": {},
   "outputs": [
    {
     "name": "stdout",
     "output_type": "stream",
     "text": [
      "Epoch 1/80\n"
     ]
    },
    {
     "name": "stderr",
     "output_type": "stream",
     "text": [
      "2023-04-09 19:55:53.871829: I tensorflow/core/common_runtime/executor.cc:1197] [/device:CPU:0] (DEBUG INFO) Executor start aborting (this does not indicate an error and you can ignore this message): INVALID_ARGUMENT: You must feed a value for placeholder tensor 'Placeholder/_0' with dtype int32\n",
      "\t [[{{node Placeholder/_0}}]]\n"
     ]
    },
    {
     "name": "stdout",
     "output_type": "stream",
     "text": [
      "146/146 [==============================] - ETA: 0s - loss: 9942.5107"
     ]
    },
    {
     "name": "stderr",
     "output_type": "stream",
     "text": [
      "2023-04-09 19:56:31.717622: I tensorflow/core/common_runtime/executor.cc:1197] [/device:CPU:0] (DEBUG INFO) Executor start aborting (this does not indicate an error and you can ignore this message): INVALID_ARGUMENT: You must feed a value for placeholder tensor 'Placeholder/_0' with dtype int32\n",
      "\t [[{{node Placeholder/_0}}]]\n"
     ]
    },
    {
     "name": "stdout",
     "output_type": "stream",
     "text": [
      "146/146 [==============================] - 40s 143ms/step - loss: 9942.5107 - val_loss: 29679.1348\n",
      "Epoch 2/80\n",
      "146/146 [==============================] - 18s 123ms/step - loss: 1473.8881 - val_loss: 3308.1230\n",
      "Epoch 3/80\n",
      "146/146 [==============================] - 19s 133ms/step - loss: 1234.6780 - val_loss: 2107.5620\n",
      "Epoch 4/80\n",
      "146/146 [==============================] - 18s 125ms/step - loss: 1137.4911 - val_loss: 1761.1954\n",
      "Epoch 5/80\n",
      "146/146 [==============================] - 18s 126ms/step - loss: 1079.2035 - val_loss: 1275.8170\n",
      "Epoch 6/80\n",
      "146/146 [==============================] - 19s 131ms/step - loss: 1083.2290 - val_loss: 1408.1857\n",
      "Epoch 7/80\n",
      "146/146 [==============================] - 18s 125ms/step - loss: 1043.6362 - val_loss: 1389.5229\n",
      "Epoch 8/80\n",
      "146/146 [==============================] - 18s 121ms/step - loss: 1036.2533 - val_loss: 1359.2181\n",
      "Epoch 9/80\n",
      "146/146 [==============================] - 20s 137ms/step - loss: 1031.6550 - val_loss: 1301.2985\n",
      "Epoch 10/80\n",
      "146/146 [==============================] - 18s 123ms/step - loss: 1028.1427 - val_loss: 1336.7439\n",
      "Epoch 11/80\n",
      "146/146 [==============================] - 18s 124ms/step - loss: 1040.7019 - val_loss: 1297.3401\n",
      "Epoch 12/80\n",
      "146/146 [==============================] - 18s 124ms/step - loss: 1029.9319 - val_loss: 1287.2314\n",
      "Epoch 13/80\n",
      "146/146 [==============================] - 19s 130ms/step - loss: 1026.0758 - val_loss: 1270.6027\n",
      "Epoch 14/80\n",
      "146/146 [==============================] - 18s 123ms/step - loss: 1032.9473 - val_loss: 1260.8141\n",
      "Epoch 15/80\n",
      "146/146 [==============================] - 18s 122ms/step - loss: 1024.8057 - val_loss: 1351.1576\n",
      "Epoch 16/80\n",
      "146/146 [==============================] - 20s 135ms/step - loss: 1023.8995 - val_loss: 1320.6293\n",
      "Epoch 17/80\n",
      "146/146 [==============================] - 20s 134ms/step - loss: 1021.6056 - val_loss: 1287.4727\n",
      "Epoch 18/80\n",
      "146/146 [==============================] - 19s 129ms/step - loss: 1018.7958 - val_loss: 1285.9543\n",
      "Epoch 19/80\n",
      "146/146 [==============================] - 21s 147ms/step - loss: 1021.4139 - val_loss: 1268.8173\n",
      "Epoch 20/80\n",
      "146/146 [==============================] - 20s 137ms/step - loss: 1013.4464 - val_loss: 1294.4366\n",
      "Epoch 21/80\n",
      "146/146 [==============================] - 19s 132ms/step - loss: 1008.4026 - val_loss: 1190.3837\n",
      "Epoch 22/80\n",
      "146/146 [==============================] - 20s 137ms/step - loss: 1006.7640 - val_loss: 1232.3456\n",
      "Epoch 23/80\n",
      "146/146 [==============================] - 18s 126ms/step - loss: 1003.8232 - val_loss: 1206.4442\n",
      "Epoch 24/80\n",
      "146/146 [==============================] - 19s 130ms/step - loss: 996.7740 - val_loss: 1170.0421\n",
      "Epoch 25/80\n",
      "146/146 [==============================] - 20s 140ms/step - loss: 990.1349 - val_loss: 1190.2045\n",
      "Epoch 26/80\n",
      "146/146 [==============================] - 19s 133ms/step - loss: 987.3510 - val_loss: 1102.1388\n",
      "Epoch 27/80\n",
      "146/146 [==============================] - 19s 133ms/step - loss: 991.2445 - val_loss: 1175.2186\n",
      "Epoch 28/80\n",
      "146/146 [==============================] - 20s 138ms/step - loss: 969.2118 - val_loss: 1062.1516\n",
      "Epoch 29/80\n",
      "146/146 [==============================] - 18s 122ms/step - loss: 971.4763 - val_loss: 1024.9713\n",
      "Epoch 30/80\n",
      "146/146 [==============================] - 18s 124ms/step - loss: 963.6281 - val_loss: 1036.2234\n",
      "Epoch 31/80\n",
      "146/146 [==============================] - 19s 133ms/step - loss: 960.6255 - val_loss: 1004.6964\n",
      "Epoch 32/80\n",
      "146/146 [==============================] - 17s 119ms/step - loss: 952.8440 - val_loss: 1000.3081\n",
      "Epoch 33/80\n",
      "146/146 [==============================] - 18s 122ms/step - loss: 950.4693 - val_loss: 988.1833\n",
      "Epoch 34/80\n",
      "146/146 [==============================] - 18s 123ms/step - loss: 943.7759 - val_loss: 988.6315\n",
      "Epoch 35/80\n",
      "146/146 [==============================] - 18s 126ms/step - loss: 938.3225 - val_loss: 961.0154\n",
      "Epoch 36/80\n",
      "146/146 [==============================] - 17s 119ms/step - loss: 936.2723 - val_loss: 951.2647\n",
      "Epoch 37/80\n",
      "146/146 [==============================] - 17s 118ms/step - loss: 921.0088 - val_loss: 959.5768\n",
      "Epoch 38/80\n",
      "146/146 [==============================] - 20s 136ms/step - loss: 919.1506 - val_loss: 944.0955\n",
      "Epoch 39/80\n",
      "146/146 [==============================] - 18s 124ms/step - loss: 908.6031 - val_loss: 944.5255\n",
      "Epoch 40/80\n",
      "146/146 [==============================] - 19s 132ms/step - loss: 898.7399 - val_loss: 919.0432\n",
      "Epoch 41/80\n",
      "146/146 [==============================] - 20s 135ms/step - loss: 896.7520 - val_loss: 904.1965\n",
      "Epoch 42/80\n",
      "146/146 [==============================] - 19s 132ms/step - loss: 875.9666 - val_loss: 899.9344\n",
      "Epoch 43/80\n",
      "146/146 [==============================] - 18s 123ms/step - loss: 865.4899 - val_loss: 904.0527\n",
      "Epoch 44/80\n",
      "146/146 [==============================] - 20s 137ms/step - loss: 849.7573 - val_loss: 878.3179\n",
      "Epoch 45/80\n",
      "146/146 [==============================] - 18s 122ms/step - loss: 839.6321 - val_loss: 867.6409\n",
      "Epoch 46/80\n",
      "146/146 [==============================] - 17s 118ms/step - loss: 821.9843 - val_loss: 877.2615\n",
      "Epoch 47/80\n",
      "146/146 [==============================] - 18s 121ms/step - loss: 812.4073 - val_loss: 855.7830\n",
      "Epoch 48/80\n",
      "146/146 [==============================] - 19s 132ms/step - loss: 801.3294 - val_loss: 833.4100\n",
      "Epoch 49/80\n",
      "146/146 [==============================] - 20s 137ms/step - loss: 795.0750 - val_loss: 813.5011\n",
      "Epoch 50/80\n",
      "146/146 [==============================] - 18s 120ms/step - loss: 778.7270 - val_loss: 816.4333\n",
      "Epoch 51/80\n",
      "146/146 [==============================] - 20s 136ms/step - loss: 778.1248 - val_loss: 787.6653\n",
      "Epoch 52/80\n",
      "146/146 [==============================] - 19s 127ms/step - loss: 761.3416 - val_loss: 778.5730\n",
      "Epoch 53/80\n",
      "146/146 [==============================] - 19s 128ms/step - loss: 756.0401 - val_loss: 769.7675\n",
      "Epoch 54/80\n",
      "146/146 [==============================] - 19s 132ms/step - loss: 751.8304 - val_loss: 762.8364\n",
      "Epoch 55/80\n",
      "146/146 [==============================] - 17s 120ms/step - loss: 739.8895 - val_loss: 769.7032\n",
      "Epoch 56/80\n",
      "146/146 [==============================] - 17s 118ms/step - loss: 744.7280 - val_loss: 795.9984\n",
      "Epoch 57/80\n",
      "146/146 [==============================] - 19s 130ms/step - loss: 731.7869 - val_loss: 743.5128\n",
      "Epoch 58/80\n",
      "146/146 [==============================] - 19s 131ms/step - loss: 713.2358 - val_loss: 735.5055\n",
      "Epoch 59/80\n",
      "146/146 [==============================] - 18s 126ms/step - loss: 712.6102 - val_loss: 729.1996\n",
      "Epoch 60/80\n",
      "146/146 [==============================] - 20s 140ms/step - loss: 706.1953 - val_loss: 743.6484\n",
      "Epoch 61/80\n",
      "146/146 [==============================] - 18s 126ms/step - loss: 698.3425 - val_loss: 713.5550\n",
      "Epoch 62/80\n",
      "146/146 [==============================] - 18s 125ms/step - loss: 692.8250 - val_loss: 715.4463\n",
      "Epoch 63/80\n",
      "146/146 [==============================] - 19s 130ms/step - loss: 689.1331 - val_loss: 692.0433\n",
      "Epoch 64/80\n",
      "146/146 [==============================] - 19s 133ms/step - loss: 682.5826 - val_loss: 702.0067\n",
      "Epoch 65/80\n",
      "146/146 [==============================] - 18s 124ms/step - loss: 674.0927 - val_loss: 677.0230\n",
      "Epoch 66/80\n",
      "146/146 [==============================] - 18s 122ms/step - loss: 669.3615 - val_loss: 681.7552\n",
      "Epoch 67/80\n",
      "146/146 [==============================] - 19s 129ms/step - loss: 664.5361 - val_loss: 689.8499\n",
      "Epoch 68/80\n",
      "146/146 [==============================] - 19s 129ms/step - loss: 655.6149 - val_loss: 661.2830\n",
      "Epoch 69/80\n",
      "146/146 [==============================] - 18s 123ms/step - loss: 650.1414 - val_loss: 654.1618\n",
      "Epoch 70/80\n",
      "146/146 [==============================] - 19s 130ms/step - loss: 641.9735 - val_loss: 648.6724\n",
      "Epoch 71/80\n",
      "146/146 [==============================] - 18s 124ms/step - loss: 634.7600 - val_loss: 636.2621\n",
      "Epoch 72/80\n",
      "146/146 [==============================] - 19s 128ms/step - loss: 629.9022 - val_loss: 635.6097\n",
      "Epoch 73/80\n",
      "146/146 [==============================] - 19s 131ms/step - loss: 625.8192 - val_loss: 619.3071\n",
      "Epoch 74/80\n",
      "146/146 [==============================] - 18s 122ms/step - loss: 627.3799 - val_loss: 617.2994\n",
      "Epoch 75/80\n",
      "146/146 [==============================] - 17s 120ms/step - loss: 615.3083 - val_loss: 612.1234\n",
      "Epoch 76/80\n",
      "146/146 [==============================] - 18s 123ms/step - loss: 609.2184 - val_loss: 614.5563\n",
      "Epoch 77/80\n",
      "146/146 [==============================] - 18s 121ms/step - loss: 604.8265 - val_loss: 613.3335\n",
      "Epoch 78/80\n",
      "146/146 [==============================] - 18s 120ms/step - loss: 597.8375 - val_loss: 601.5936\n",
      "Epoch 79/80\n",
      "146/146 [==============================] - 17s 120ms/step - loss: 601.5581 - val_loss: 614.1931\n",
      "Epoch 80/80\n",
      "146/146 [==============================] - 18s 126ms/step - loss: 588.4754 - val_loss: 604.2016\n"
     ]
    }
   ],
   "source": [
    "history = autoencoder.fit(train_img_gen, epochs=80,\n",
    "                validation_data=validate_img_gen,\n",
    "                verbose=1,\n",
    "                callbacks = [model_checkpoint_callback])"
   ]
  },
  {
   "cell_type": "code",
   "execution_count": 11,
   "id": "2d56d17a",
   "metadata": {},
   "outputs": [],
   "source": [
    "def plot_history(history):\n",
    "    fig = plt.figure(figsize=(15, 7))\n",
    "    plt.plot(history.history['loss'])\n",
    "    plt.plot(history.history['val_loss'])\n",
    "    plt.title('Model loss')\n",
    "    plt.ylabel('Loss')\n",
    "    plt.xlabel('epoch')\n",
    "    plt.legend(['train', 'val'], loc='upper left')\n",
    "    plt.show()"
   ]
  },
  {
   "cell_type": "code",
   "execution_count": 12,
   "id": "6b394186",
   "metadata": {},
   "outputs": [
    {
     "data": {
      "image/png": "[encoded data removed]",
      "text/plain": [
       "<Figure size 1080x504 with 1 Axes>"
      ]
     },
     "metadata": {
      "needs_background": "light"
     },
     "output_type": "display_data"
    }
   ],
   "source": [
    "plot_history(history)"
   ]
  },
  {
   "cell_type": "code",
   "execution_count": 49,
   "id": "3b7d98e1",
   "metadata": {},
   "outputs": [],
   "source": [
    "autoencoder.load_weights('simple_autoencoder_weights_neu.h5')"
   ]
  },
  {
   "cell_type": "code",
   "execution_count": 50,
   "id": "c21f1547",
   "metadata": {},
   "outputs": [
    {
     "name": "stdout",
     "output_type": "stream",
     "text": [
      "Found 666 images belonging to 1 classes.\n"
     ]
    }
   ],
   "source": [
    "test_img_gen = img_gen.flow_from_directory('./../bloodmnist/test', target_size = IMG_SHAPE[:-1], batch_size =BATCH_SIZE, class_mode='input', color_mode ='rgb', classes = ['6_neutrophil'], shuffle=False)#,'6_neutrophil'])"
   ]
  },
  {
   "cell_type": "code",
   "execution_count": 13,
   "id": "835d50bb",
   "metadata": {},
   "outputs": [
    {
     "name": "stderr",
     "output_type": "stream",
     "text": [
      "2023-04-09 23:12:39.795965: I tensorflow/core/common_runtime/executor.cc:1197] [/device:CPU:0] (DEBUG INFO) Executor start aborting (this does not indicate an error and you can ignore this message): INVALID_ARGUMENT: You must feed a value for placeholder tensor 'Placeholder/_0' with dtype int32\n",
      "\t [[{{node Placeholder/_0}}]]\n"
     ]
    },
    {
     "name": "stdout",
     "output_type": "stream",
     "text": [
      "42/42 [==============================] - 1s 17ms/step - loss: 0.0043\n"
     ]
    },
    {
     "data": {
      "text/plain": [
       "0.004322497174143791"
      ]
     },
     "execution_count": 13,
     "metadata": {},
     "output_type": "execute_result"
    }
   ],
   "source": [
    "autoencoder.evaluate(test_img_gen)"
   ]
  },
  {
   "cell_type": "code",
   "execution_count": 51,
   "id": "36c1f4b1",
   "metadata": {},
   "outputs": [],
   "source": [
    "test_img = test_img_gen[0][0][14]"
   ]
  },
  {
   "cell_type": "code",
   "execution_count": 52,
   "id": "426f4138",
   "metadata": {},
   "outputs": [
    {
     "data": {
      "text/plain": [
       "<matplotlib.image.AxesImage at 0x7fc9dcec8190>"
      ]
     },
     "execution_count": 52,
     "metadata": {},
     "output_type": "execute_result"
    },
    {
     "data": {
      "image/png": "[encoded data removed]",
      "text/plain": [
       "<Figure size 432x288 with 1 Axes>"
      ]
     },
     "metadata": {
      "needs_background": "light"
     },
     "output_type": "display_data"
    }
   ],
   "source": [
    "plt.imshow(np.array(test_img))"
   ]
  },
  {
   "cell_type": "code",
   "execution_count": 53,
   "id": "7dd93228",
   "metadata": {},
   "outputs": [
    {
     "name": "stdout",
     "output_type": "stream",
     "text": [
      "1/1 [==============================] - 0s 133ms/step\n"
     ]
    }
   ],
   "source": [
    "generated = autoencoder.predict(test_img.reshape(-1,28,28,3))"
   ]
  },
  {
   "cell_type": "code",
   "execution_count": 54,
   "id": "9fb6150a",
   "metadata": {},
   "outputs": [
    {
     "name": "stderr",
     "output_type": "stream",
     "text": [
      "Clipping input data to the valid range for imshow with RGB data ([0..1] for floats or [0..255] for integers).\n"
     ]
    },
    {
     "data": {
      "text/plain": [
       "<matplotlib.image.AxesImage at 0x7fc9dce6ed90>"
      ]
     },
     "execution_count": 54,
     "metadata": {},
     "output_type": "execute_result"
    },
    {
     "data": {
      "image/png": "[encoded data removed]",
      "text/plain": [
       "<Figure size 432x288 with 1 Axes>"
      ]
     },
     "metadata": {
      "needs_background": "light"
     },
     "output_type": "display_data"
    }
   ],
   "source": [
    "plt.imshow(generated.reshape(28,28,3))"
   ]
  },
  {
   "cell_type": "code",
   "execution_count": 57,
   "id": "688dedfa",
   "metadata": {},
   "outputs": [],
   "source": [
    "def visualize(img,encoder,decoder):\n",
    "    \"\"\"Draws original, encoded and decoded images\"\"\"\n",
    "    for n,i in enumerate(np.random.randint(len(img), size = 4)):\n",
    "        code = encoder.predict(img[i].reshape(-1,28,28,3))  # img[None] is the same as img[np.newaxis, :]\n",
    "        print(code.shape)\n",
    "        reco = decoder.predict(code)[0]\n",
    "\n",
    "        plt.subplot(1,3,1)\n",
    "        plt.title(\"Original\")\n",
    "        plt.imshow(np.array(img[i].reshape(28,28,3)))\n",
    "\n",
    "        plt.subplot(1,3,2)\n",
    "        plt.title(\"Code\")\n",
    "        plt.imshow(code.reshape([code.shape[-1]//8,-1]))\n",
    "\n",
    "        plt.subplot(1,3,3)\n",
    "        plt.title(\"Reconstructed\")\n",
    "        plt.imshow(np.array(reco.reshape(28,28,3)))\n",
    "        plt.show()"
   ]
  },
  {
   "cell_type": "code",
   "execution_count": 58,
   "id": "7f175e22",
   "metadata": {},
   "outputs": [
    {
     "name": "stdout",
     "output_type": "stream",
     "text": [
      "1/1 [==============================] - 0s 266ms/step\n",
      "(1, 32)\n",
      "WARNING:tensorflow:5 out of the last 5 calls to <function Model.make_predict_function.<locals>.predict_function at 0x7fc9dcdd5670> triggered tf.function retracing. Tracing is expensive and the excessive number of tracings could be due to (1) creating @tf.function repeatedly in a loop, (2) passing tensors with different shapes, (3) passing Python objects instead of tensors. For (1), please define your @tf.function outside of the loop. For (2), @tf.function has reduce_retracing=True option that can avoid unnecessary retracing. For (3), please refer to https://www.tensorflow.org/guide/function#controlling_retracing and https://www.tensorflow.org/api_docs/python/tf/function for  more details.\n",
      "1/1 [==============================] - 0s 96ms/step\n"
     ]
    },
    {
     "name": "stderr",
     "output_type": "stream",
     "text": [
      "Clipping input data to the valid range for imshow with RGB data ([0..1] for floats or [0..255] for integers).\n"
     ]
    },
    {
     "data": {
      "image/png": "[encoded data removed]",
      "text/plain": [
       "<Figure size 432x288 with 3 Axes>"
      ]
     },
     "metadata": {
      "needs_background": "light"
     },
     "output_type": "display_data"
    },
    {
     "name": "stdout",
     "output_type": "stream",
     "text": [
      "1/1 [==============================] - 0s 20ms/step\n",
      "(1, 32)\n",
      "1/1 [==============================] - 0s 20ms/step\n"
     ]
    },
    {
     "name": "stderr",
     "output_type": "stream",
     "text": [
      "Clipping input data to the valid range for imshow with RGB data ([0..1] for floats or [0..255] for integers).\n"
     ]
    },
    {
     "data": {
      "image/png": "[encoded data removed]",
      "text/plain": [
       "<Figure size 432x288 with 3 Axes>"
      ]
     },
     "metadata": {
      "needs_background": "light"
     },
     "output_type": "display_data"
    },
    {
     "name": "stdout",
     "output_type": "stream",
     "text": [
      "1/1 [==============================] - 0s 22ms/step\n",
      "(1, 32)\n",
      "1/1 [==============================] - 0s 24ms/step\n"
     ]
    },
    {
     "name": "stderr",
     "output_type": "stream",
     "text": [
      "Clipping input data to the valid range for imshow with RGB data ([0..1] for floats or [0..255] for integers).\n"
     ]
    },
    {
     "data": {
      "image/png": "[encoded data removed]",
      "text/plain": [
       "<Figure size 432x288 with 3 Axes>"
      ]
     },
     "metadata": {
      "needs_background": "light"
     },
     "output_type": "display_data"
    },
    {
     "name": "stdout",
     "output_type": "stream",
     "text": [
      "1/1 [==============================] - 0s 22ms/step\n",
      "(1, 32)\n",
      "1/1 [==============================] - 0s 21ms/step\n"
     ]
    },
    {
     "name": "stderr",
     "output_type": "stream",
     "text": [
      "Clipping input data to the valid range for imshow with RGB data ([0..1] for floats or [0..255] for integers).\n"
     ]
    },
    {
     "data": {
      "image/png": "[encoded data removed]",
      "text/plain": [
       "<Figure size 432x288 with 3 Axes>"
      ]
     },
     "metadata": {
      "needs_background": "light"
     },
     "output_type": "display_data"
    }
   ],
   "source": [
    "visualize(test_img_gen[0][0], encoder, decoder)"
   ]
  },
  {
   "cell_type": "markdown",
   "id": "cad875f0",
   "metadata": {},
   "source": [
    "# Getting Decoder"
   ]
  },
  {
   "cell_type": "code",
   "execution_count": 41,
   "id": "b087c3d1",
   "metadata": {},
   "outputs": [],
   "source": [
    "encoder, decoder = build_autoencoder(IMG_SHAPE, code_size=32)"
   ]
  },
  {
   "cell_type": "code",
   "execution_count": 64,
   "id": "fedc1138",
   "metadata": {},
   "outputs": [],
   "source": [
    "encoder_weights = autoencoder.layers[1].get_weights()\n",
    "decoder_weights = autoencoder.layers[2].get_weights()"
   ]
  },
  {
   "cell_type": "code",
   "execution_count": 66,
   "id": "7bcfd0e5",
   "metadata": {},
   "outputs": [],
   "source": [
    "encoder.set_weights(encoder_weights)\n",
    "decoder.set_weights(decoder_weights)"
   ]
  },
  {
   "cell_type": "code",
   "execution_count": 78,
   "id": "e52d635e",
   "metadata": {},
   "outputs": [],
   "source": [
    "test_code = np.random.rand(1,32)"
   ]
  },
  {
   "cell_type": "code",
   "execution_count": 79,
   "id": "10256139",
   "metadata": {},
   "outputs": [
    {
     "data": {
      "text/plain": [
       "array([[0.7381518 , 0.27864467, 0.8041267 , 0.35333861, 0.45165048,\n",
       "        0.13716209, 0.23338409, 0.16163159, 0.15330387, 0.25388632,\n",
       "        0.6581253 , 0.56881549, 0.52282277, 0.19717174, 0.40816575,\n",
       "        0.22928476, 0.29466607, 0.8081394 , 0.35496216, 0.85874807,\n",
       "        0.90304649, 0.35820022, 0.15006606, 0.60554131, 0.81754984,\n",
       "        0.43745231, 0.34517899, 0.27512843, 0.62321661, 0.00825038,\n",
       "        0.1385732 , 0.73281946]])"
      ]
     },
     "execution_count": 79,
     "metadata": {},
     "output_type": "execute_result"
    }
   ],
   "source": [
    "test_code"
   ]
  },
  {
   "cell_type": "code",
   "execution_count": 80,
   "id": "64cfbb10",
   "metadata": {},
   "outputs": [
    {
     "name": "stderr",
     "output_type": "stream",
     "text": [
      "Clipping input data to the valid range for imshow with RGB data ([0..1] for floats or [0..255] for integers).\n"
     ]
    },
    {
     "data": {
      "text/plain": [
       "<matplotlib.image.AxesImage at 0x7f6570da1a00>"
      ]
     },
     "execution_count": 80,
     "metadata": {},
     "output_type": "execute_result"
    },
    {
     "data": {
      "image/png": "[encoded data removed]",
      "text/plain": [
       "<Figure size 432x288 with 1 Axes>"
      ]
     },
     "metadata": {
      "needs_background": "light"
     },
     "output_type": "display_data"
    }
   ],
   "source": [
    "plt.imshow(np.array(decoder(test_code)).reshape(28,28,3))"
   ]
  },
  {
   "cell_type": "markdown",
   "id": "ab102adf",
   "metadata": {},
   "source": [
    "# Pytorch"
   ]
  },
  {
   "cell_type": "code",
   "execution_count": 1,
   "id": "524328ca",
   "metadata": {},
   "outputs": [],
   "source": [
    "import torch \n",
    "import torch.nn as nn\n",
    "import torch.nn.functional as F"
   ]
  },
  {
   "cell_type": "code",
   "execution_count": 257,
   "id": "17d1fefb",
   "metadata": {},
   "outputs": [],
   "source": [
    "class AutoEncoder(nn.Module):\n",
    "    def __init__(self, img_shape, code_size):\n",
    "        super(AutoEncoder, self).__init__()\n",
    "\n",
    "        # encoder\n",
    "        self.C, self.H, self.W = img_shape\n",
    "        self.conv1 = nn.Conv2d(self.C, 32, kernel_size=3,  padding= \"same\")\n",
    "        self.conv2 = nn.Conv2d(32, 64, kernel_size=3,  padding= \"same\")\n",
    "        self.conv3 = nn.Conv2d(64, 128, kernel_size=3,   padding= \"same\")\n",
    "        self.conv4 = nn.Conv2d(128, 256, kernel_size=3, padding= \"same\")\n",
    "        self.fc1 = nn.Linear(256, code_size)\n",
    "\n",
    "        # decoder\n",
    "        self.fc3 = nn.Linear(code_size, 2304)\n",
    "        self.conv5 = nn.ConvTranspose2d(256, 128, kernel_size=3, stride=2, padding=0)\n",
    "        self.conv6 = nn.ConvTranspose2d(128, 64, kernel_size=3, stride=2, padding=1, output_padding = 1)\n",
    "        self.conv7 = nn.ConvTranspose2d(64, self.C, kernel_size=3, stride=2, padding=1, output_padding = 1)\n",
    "\n",
    "    def encode(self, x):\n",
    "        x = F.elu(self.conv1(x))\n",
    "        x = F.max_pool2d(x, kernel_size=2)\n",
    "        x = F.elu(self.conv2(x))\n",
    "        x = F.max_pool2d(x, kernel_size=2)\n",
    "        x = F.elu(self.conv3(x))\n",
    "        x = F.max_pool2d(x, kernel_size=2)\n",
    "        x = F.elu(self.conv4(x))\n",
    "        x = F.max_pool2d(x, kernel_size=2)\n",
    "        x = x.view(x.size(0), -1)\n",
    "        x = self.fc1(x)\n",
    "        return x\n",
    "\n",
    "    def decode(self, z):\n",
    "        z = self.fc3(z)\n",
    "        z = z.view(z.size(0), 256, 3, 3)\n",
    "        z = F.relu(self.conv5(z))\n",
    "        z = F.relu(self.conv6(z))\n",
    "        return self.conv7(z)\n",
    "\n",
    "\n",
    "    def forward(self, x):\n",
    "        print(x.shape)\n",
    "        z = self.encode(x)\n",
    "        x_recon = self.decode(z)\n",
    "        return x_recon\n",
    "\n"
   ]
  },
  {
   "cell_type": "code",
   "execution_count": 13,
   "id": "c320ec66",
   "metadata": {},
   "outputs": [],
   "source": [
    "z_dim = 32"
   ]
  },
  {
   "cell_type": "code",
   "execution_count": 259,
   "id": "747a84a3",
   "metadata": {},
   "outputs": [],
   "source": [
    "autoencoder = AutoEncoder(img_shape = (3,28,28),code_size  = z_dim) "
   ]
  },
  {
   "cell_type": "code",
   "execution_count": 260,
   "id": "acb25c01",
   "metadata": {},
   "outputs": [
    {
     "name": "stdout",
     "output_type": "stream",
     "text": [
      "torch.Size([2, 3, 28, 28])\n",
      "----------------------------------------------------------------\n",
      "        Layer (type)               Output Shape         Param #\n",
      "================================================================\n",
      "            Conv2d-1           [-1, 32, 28, 28]             896\n",
      "            Conv2d-2           [-1, 64, 14, 14]          18,496\n",
      "            Conv2d-3            [-1, 128, 7, 7]          73,856\n",
      "            Conv2d-4            [-1, 256, 3, 3]         295,168\n",
      "            Linear-5                   [-1, 32]           8,224\n",
      "            Linear-6                 [-1, 2304]          76,032\n",
      "   ConvTranspose2d-7            [-1, 128, 7, 7]         295,040\n",
      "   ConvTranspose2d-8           [-1, 64, 14, 14]          73,792\n",
      "   ConvTranspose2d-9            [-1, 3, 28, 28]           1,731\n",
      "================================================================\n",
      "Total params: 843,235\n",
      "Trainable params: 843,235\n",
      "Non-trainable params: 0\n",
      "----------------------------------------------------------------\n",
      "Input size (MB): 0.01\n",
      "Forward/backward pass size (MB): 0.53\n",
      "Params size (MB): 3.22\n",
      "Estimated Total Size (MB): 3.76\n",
      "----------------------------------------------------------------\n"
     ]
    }
   ],
   "source": [
    "from torchsummary import summary\n",
    "summary(autoencoder.cuda(),(3,28,28))"
   ]
  },
  {
   "cell_type": "code",
   "execution_count": 185,
   "id": "6687016c",
   "metadata": {},
   "outputs": [],
   "source": [
    "img = np.ones((1,3,28,28))"
   ]
  },
  {
   "cell_type": "code",
   "execution_count": 188,
   "id": "41a7c8dd",
   "metadata": {},
   "outputs": [],
   "source": [
    "tensor = torch.Tensor(img).cuda()"
   ]
  },
  {
   "cell_type": "code",
   "execution_count": 189,
   "id": "fa6f65d5",
   "metadata": {},
   "outputs": [
    {
     "name": "stdout",
     "output_type": "stream",
     "text": [
      "torch.Size([1, 256, 1, 1])\n"
     ]
    },
    {
     "data": {
      "text/plain": [
       "torch.Size([1, 3, 28, 28])"
      ]
     },
     "execution_count": 189,
     "metadata": {},
     "output_type": "execute_result"
    }
   ],
   "source": [
    "autoencoder(tensor).shape"
   ]
  },
  {
   "cell_type": "code",
   "execution_count": null,
   "id": "fcb859e8",
   "metadata": {},
   "outputs": [],
   "source": [
    "optimizer = torch.optim.Adamax(autoencoder.parameters())\n",
    "loss_fn = torch.nn.MSELoss()"
   ]
  },
  {
   "cell_type": "code",
   "execution_count": 2,
   "id": "a44b0b44",
   "metadata": {},
   "outputs": [],
   "source": [
    "import medmnist\n",
    "from medmnist import INFO, Evaluator\n",
    "data_flag = 'bloodmnist'\n",
    "# data_flag = 'breastmnist'\n",
    "download = False\n",
    "\n",
    "NUM_EPOCHS = 10\n",
    "BATCH_SIZE = 16\n",
    "lr = 0.005\n",
    "\n",
    "info = INFO[data_flag]\n",
    "task = info['task']\n",
    "n_channels = info['n_channels']\n",
    "n_classes = len(info['label'])\n",
    "\n",
    "DataClass = getattr(medmnist, info['python_class'])"
   ]
  },
  {
   "cell_type": "code",
   "execution_count": 3,
   "id": "18dd76bb",
   "metadata": {},
   "outputs": [],
   "source": [
    "# Define dataset and dataloader\n",
    "# preprocessing\n",
    "import torch.utils.data as data\n",
    "import torchvision.transforms as transforms\n",
    "\n",
    "data_transform = transforms.Compose([\n",
    "    transforms.ToTensor(),\n",
    "])\n",
    "\n",
    "# load the data\n",
    "train_dataset = DataClass(split='train', transform=data_transform, download=download)\n",
    "test_dataset = DataClass(split='test', transform=data_transform, download=download)\n",
    "\n",
    "val_dataset = DataClass(split='val', download=download)\n"
   ]
  },
  {
   "cell_type": "code",
   "execution_count": 4,
   "id": "18bcd38d",
   "metadata": {},
   "outputs": [],
   "source": [
    "neu_train_dataset = DataClass(split = 'train', transform=data_transform)\n",
    "neu_val_dataset = DataClass(split = 'val', transform=data_transform)\n",
    "neu_test_dataset = DataClass(split = 'test', transform=data_transform)"
   ]
  },
  {
   "cell_type": "code",
   "execution_count": 5,
   "id": "5331e616",
   "metadata": {},
   "outputs": [],
   "source": [
    "import numpy as np\n",
    "idx = (train_dataset.labels==6) \n",
    "neu_train_dataset.labels = train_dataset.labels[idx]\n",
    "neu_train_dataset.imgs = train_dataset.imgs[idx.squeeze()]\n",
    "\n",
    "idx = (val_dataset.labels==6) \n",
    "neu_val_dataset.labels = val_dataset.labels[idx]\n",
    "neu_val_dataset.imgs = val_dataset.imgs[idx.squeeze()]\n",
    "\n",
    "idx = (test_dataset.labels==6) \n",
    "neu_test_dataset.labels = test_dataset.labels[idx]\n",
    "neu_test_dataset.imgs = test_dataset.imgs[idx.squeeze()]"
   ]
  },
  {
   "cell_type": "code",
   "execution_count": 6,
   "id": "5c378470",
   "metadata": {},
   "outputs": [],
   "source": [
    "train_loader = data.DataLoader(dataset=neu_train_dataset, batch_size=BATCH_SIZE, shuffle=True)\n",
    "val_loader = data.DataLoader(dataset=neu_val_dataset, batch_size=BATCH_SIZE, shuffle=False)\n",
    "test_loader = data.DataLoader(dataset=neu_test_dataset, batch_size=BATCH_SIZE, shuffle=False)"
   ]
  },
  {
   "cell_type": "code",
   "execution_count": 7,
   "id": "4f69c84a",
   "metadata": {},
   "outputs": [
    {
     "data": {
      "text/plain": [
       "146"
      ]
     },
     "execution_count": 7,
     "metadata": {},
     "output_type": "execute_result"
    }
   ],
   "source": [
    "len(train_loader)"
   ]
  },
  {
   "cell_type": "code",
   "execution_count": 8,
   "id": "fb6a353a",
   "metadata": {},
   "outputs": [],
   "source": [
    "def train_one_epoch(epoch_index, model):\n",
    "    running_loss = 0.\n",
    "    last_loss = 0.\n",
    "\n",
    "    # Here, we use enumerate(training_loader) instead of\n",
    "    # iter(training_loader) so that we can track the batch\n",
    "    # index and do some intra-epoch reporting\n",
    "    for i, data in enumerate(train_loader):\n",
    "        # Every data instance is an input + label pair\n",
    "        inputs, labels = data\n",
    "\n",
    "        # Zero your gradients for every batch!\n",
    "        optimizer.zero_grad()\n",
    "\n",
    "        # Make predictions for this batch\n",
    "        outputs = model(inputs)\n",
    "\n",
    "        # Compute the loss and its gradients\n",
    "        loss = loss_fn(outputs, inputs)\n",
    "        loss.backward()\n",
    "\n",
    "        # Adjust learning weights\n",
    "        optimizer.step()\n",
    "\n",
    "        # Gather data and report\n",
    "        running_loss += loss.item()\n",
    "\n",
    "    last_loss = running_loss / len(train_loader) # loss per batch\n",
    "    print('Epoch {} loss: {}'.format(epoch_index, last_loss))\n",
    "\n",
    "    return last_loss"
   ]
  },
  {
   "cell_type": "code",
   "execution_count": 9,
   "id": "ad271dd9",
   "metadata": {},
   "outputs": [],
   "source": [
    "def train(model, out_path):\n",
    "    # Initializing in a separate cell so we can easily add more epochs to the same run\n",
    "    epoch_number = 0\n",
    "\n",
    "    N_EPOCHS = 80\n",
    "\n",
    "    best_vloss = 1_000_000.\n",
    "\n",
    "    for epoch in range(N_EPOCHS):\n",
    "        print('EPOCH {}:'.format(epoch_number + 1))\n",
    "\n",
    "        # Make sure gradient tracking is on, and do a pass over the data\n",
    "        model.train(True)\n",
    "        avg_loss = train_one_epoch(epoch_number, model)\n",
    "\n",
    "        # We don't need gradients on to do reporting\n",
    "        model.train(False)\n",
    "\n",
    "        running_vloss = 0.0\n",
    "        for i, vdata in enumerate(val_loader):\n",
    "            vinputs, vlabels = vdata\n",
    "            voutputs = model(vinputs)\n",
    "            vloss = loss_fn(voutputs, vinputs)\n",
    "            running_vloss += vloss\n",
    "\n",
    "        avg_vloss = running_vloss / (i + 1)\n",
    "        print('LOSS train {} valid {}'.format(avg_loss, avg_vloss))\n",
    "\n",
    "\n",
    "        # Track best performance, and save the model's state\n",
    "        if avg_vloss < best_vloss:\n",
    "            best_vloss = avg_vloss\n",
    "            torch.save(model.state_dict(), out_path)\n",
    "\n",
    "        epoch_number += 1"
   ]
  },
  {
   "cell_type": "code",
   "execution_count": 160,
   "id": "ba0b2774",
   "metadata": {},
   "outputs": [
    {
     "data": {
      "text/plain": [
       "<All keys matched successfully>"
      ]
     },
     "execution_count": 160,
     "metadata": {},
     "output_type": "execute_result"
    }
   ],
   "source": [
    "saved_model = AutoEncoder(img_shape = (3,28,28),code_size  = z_dim) \n",
    "saved_model.load_state_dict(torch.load('simple_autoencoder_pytorch_model'))"
   ]
  },
  {
   "cell_type": "markdown",
   "id": "eb5d5079",
   "metadata": {},
   "source": [
    "## Evaluation"
   ]
  },
  {
   "cell_type": "code",
   "execution_count": 166,
   "id": "a76d356d",
   "metadata": {},
   "outputs": [
    {
     "name": "stdout",
     "output_type": "stream",
     "text": [
      "LOSS test 0.004784946795552969\n"
     ]
    }
   ],
   "source": [
    "running_tloss = 0.0\n",
    "for i, tdata in enumerate(test_loader):\n",
    "    tinputs, tlabels = tdata\n",
    "    toutputs = saved_model(tinputs)\n",
    "    tloss = loss_fn(toutputs, tinputs)\n",
    "    running_tloss += tloss\n",
    "\n",
    "avg_tloss = running_tloss / (i + 1)\n",
    "print('LOSS test {}'.format(avg_tloss))"
   ]
  },
  {
   "cell_type": "code",
   "execution_count": 172,
   "id": "c4add0ac",
   "metadata": {},
   "outputs": [
    {
     "data": {
      "image/png": "[encoded data removed]",
      "text/plain": [
       "<Figure size 432x288 with 1 Axes>"
      ]
     },
     "metadata": {
      "needs_background": "light"
     },
     "output_type": "display_data"
    },
    {
     "name": "stderr",
     "output_type": "stream",
     "text": [
      "Clipping input data to the valid range for imshow with RGB data ([0..1] for floats or [0..255] for integers).\n"
     ]
    },
    {
     "data": {
      "image/png": "[encoded data removed]",
      "text/plain": [
       "<Figure size 432x288 with 1 Axes>"
      ]
     },
     "metadata": {
      "needs_background": "light"
     },
     "output_type": "display_data"
    }
   ],
   "source": [
    "for i, l in test_loader:\n",
    "    o = saved_model(i)\n",
    "    plt.imshow(i[0].permute(1, 2, 0))\n",
    "    plt.show()\n",
    "    plt.imshow(o[0].permute(1, 2, 0).detach().numpy())\n",
    "    plt.show()\n",
    "    break\n",
    "    "
   ]
  },
  {
   "cell_type": "code",
   "execution_count": 175,
   "id": "d913e0c9",
   "metadata": {},
   "outputs": [
    {
     "name": "stdout",
     "output_type": "stream",
     "text": [
      "----------------------------------------------------------------\n",
      "        Layer (type)               Output Shape         Param #\n",
      "================================================================\n",
      "            Conv2d-1           [-1, 32, 28, 28]             896\n",
      "            Conv2d-2           [-1, 64, 14, 14]          18,496\n",
      "            Conv2d-3            [-1, 128, 7, 7]          73,856\n",
      "            Conv2d-4            [-1, 256, 3, 3]         295,168\n",
      "            Linear-5                   [-1, 32]           8,224\n",
      "            Linear-6                 [-1, 2304]          76,032\n",
      "   ConvTranspose2d-7            [-1, 128, 7, 7]         295,040\n",
      "   ConvTranspose2d-8           [-1, 64, 14, 14]          73,792\n",
      "   ConvTranspose2d-9            [-1, 3, 28, 28]           1,731\n",
      "================================================================\n",
      "Total params: 843,235\n",
      "Trainable params: 843,235\n",
      "Non-trainable params: 0\n",
      "----------------------------------------------------------------\n",
      "Input size (MB): 0.01\n",
      "Forward/backward pass size (MB): 0.53\n",
      "Params size (MB): 3.22\n",
      "Estimated Total Size (MB): 3.76\n",
      "----------------------------------------------------------------\n"
     ]
    }
   ],
   "source": [
    "summary(autoencoder.cuda(),(3,28,28))"
   ]
  },
  {
   "cell_type": "markdown",
   "id": "af83e686",
   "metadata": {},
   "source": [
    "# Using Skip Connections"
   ]
  },
  {
   "cell_type": "code",
   "execution_count": 10,
   "id": "0b9058f3",
   "metadata": {},
   "outputs": [],
   "source": [
    "class AutoEncoder_skip(nn.Module):\n",
    "    def __init__(self, img_shape, code_size):\n",
    "        super(AutoEncoder_skip, self).__init__()\n",
    "\n",
    "        # encoder\n",
    "        self.C, self.H, self.W = img_shape\n",
    "        self.conv1 = nn.Conv2d(self.C, 32, kernel_size=3,  padding= \"same\")\n",
    "        self.conv2 = nn.Conv2d(32, 64, kernel_size=3,  padding= \"same\")\n",
    "        self.conv3 = nn.Conv2d(64, 128, kernel_size=3,   padding= \"same\")\n",
    "        self.conv4 = nn.Conv2d(128, 256, kernel_size=3, padding= \"same\")\n",
    "        self.fc1 = nn.Linear(256, code_size)\n",
    "\n",
    "        # decoder\n",
    "        self.fc3 = nn.Linear(code_size, 2304)\n",
    "        self.conv5 = nn.ConvTranspose2d(256, 128, kernel_size=3, stride=2, padding=0)\n",
    "        self.conv6 = nn.ConvTranspose2d(128, 64, kernel_size=3, stride=2, padding=1, output_padding = 1)\n",
    "        self.conv7 = nn.ConvTranspose2d(64, self.C, kernel_size=3, stride=2, padding=1, output_padding = 1)\n",
    "\n",
    "    def forward(self, x):\n",
    "        e1 = F.elu(self.conv1(x))\n",
    "        m1 = F.max_pool2d(e1, kernel_size=2)\n",
    "        \n",
    "        e2 = F.elu(self.conv2(m1))\n",
    "        m2 = F.max_pool2d(e2, kernel_size=2)\n",
    "        \n",
    "        e3 = F.elu(self.conv3(m2))\n",
    "        m3 = F.max_pool2d(e3, kernel_size=2)\n",
    "        \n",
    "        e4 = F.elu(self.conv4(m3))\n",
    "        m4 = F.max_pool2d(e4, kernel_size=2)\n",
    "        \n",
    "        f1 = m4.view(m4.size(0), -1) \n",
    "        \n",
    "        z = self.fc1(f1)\n",
    "        \n",
    "        d5 = self.fc3(z)\n",
    "        \n",
    "        d4 = d5.view(d5.size(0), 256, 3, 3)\n",
    "        c1 = d4+e4\n",
    "        d3 = F.elu(self.conv5(c1))\n",
    "        c2 = d3+e3\n",
    "        d2 = F.elu(self.conv6(c2))\n",
    "        c3 = d2+e2\n",
    "        d1 = self.conv7(c3)\n",
    "        return d1"
   ]
  },
  {
   "cell_type": "code",
   "execution_count": 14,
   "id": "c5129347",
   "metadata": {},
   "outputs": [],
   "source": [
    "autoencoder_skip = AutoEncoder_skip(img_shape = (3,28,28),code_size  = z_dim)"
   ]
  },
  {
   "cell_type": "code",
   "execution_count": 17,
   "id": "63b3fe37",
   "metadata": {},
   "outputs": [],
   "source": [
    "optimizer = torch.optim.Adamax(autoencoder_skip.parameters())\n",
    "loss_fn = torch.nn.MSELoss()"
   ]
  },
  {
   "cell_type": "code",
   "execution_count": 18,
   "id": "1c4250cd",
   "metadata": {},
   "outputs": [
    {
     "name": "stdout",
     "output_type": "stream",
     "text": [
      "EPOCH 1:\n",
      "Epoch 0 loss: 0.013532337367419817\n",
      "LOSS train 0.013532337367419817 valid 0.004240765701979399\n",
      "EPOCH 2:\n",
      "Epoch 1 loss: 0.0035357781054375513\n",
      "LOSS train 0.0035357781054375513 valid 0.0030485913157463074\n",
      "EPOCH 3:\n",
      "Epoch 2 loss: 0.002707497765348382\n",
      "LOSS train 0.002707497765348382 valid 0.0024685265962034464\n",
      "EPOCH 4:\n",
      "Epoch 3 loss: 0.0022390066248951608\n",
      "LOSS train 0.0022390066248951608 valid 0.00208022678270936\n",
      "EPOCH 5:\n",
      "Epoch 4 loss: 0.0019301116803010338\n",
      "LOSS train 0.0019301116803010338 valid 0.0018346969736739993\n",
      "EPOCH 6:\n",
      "Epoch 5 loss: 0.0017009794429799364\n",
      "LOSS train 0.0017009794429799364 valid 0.0016212121117860079\n",
      "EPOCH 7:\n",
      "Epoch 6 loss: 0.001519478757049225\n",
      "LOSS train 0.001519478757049225 valid 0.0014643212780356407\n",
      "EPOCH 8:\n",
      "Epoch 7 loss: 0.0013713881681188431\n",
      "LOSS train 0.0013713881681188431 valid 0.0013216151855885983\n",
      "EPOCH 9:\n",
      "Epoch 8 loss: 0.0012484320857217663\n",
      "LOSS train 0.0012484320857217663 valid 0.0012134036514908075\n",
      "EPOCH 10:\n",
      "Epoch 9 loss: 0.0011430072322270947\n",
      "LOSS train 0.0011430072322270947 valid 0.0011274729622527957\n",
      "EPOCH 11:\n",
      "Epoch 10 loss: 0.001056318602298246\n",
      "LOSS train 0.001056318602298246 valid 0.0010491054272279143\n",
      "EPOCH 12:\n",
      "Epoch 11 loss: 0.0009759992420073751\n",
      "LOSS train 0.0009759992420073751 valid 0.0009568199748173356\n",
      "EPOCH 13:\n",
      "Epoch 12 loss: 0.0009070097744681758\n",
      "LOSS train 0.0009070097744681758 valid 0.0008979575359262526\n",
      "EPOCH 14:\n",
      "Epoch 13 loss: 0.000849138871186145\n",
      "LOSS train 0.000849138871186145 valid 0.0008329675765708089\n",
      "EPOCH 15:\n",
      "Epoch 14 loss: 0.0007944477057046168\n",
      "LOSS train 0.0007944477057046168 valid 0.0007773474790155888\n",
      "EPOCH 16:\n",
      "Epoch 15 loss: 0.000742669865945099\n",
      "LOSS train 0.000742669865945099 valid 0.0007377392030321062\n",
      "EPOCH 17:\n",
      "Epoch 16 loss: 0.0007049926327005641\n",
      "LOSS train 0.0007049926327005641 valid 0.0007116256165318191\n",
      "EPOCH 18:\n",
      "Epoch 17 loss: 0.0006614500510806141\n",
      "LOSS train 0.0006614500510806141 valid 0.0006529733655042946\n",
      "EPOCH 19:\n",
      "Epoch 18 loss: 0.0006306677269717449\n",
      "LOSS train 0.0006306677269717449 valid 0.0006272117607295513\n",
      "EPOCH 20:\n",
      "Epoch 19 loss: 0.000590938719927193\n",
      "LOSS train 0.000590938719927193 valid 0.0005902519915252924\n",
      "EPOCH 21:\n",
      "Epoch 20 loss: 0.00056222099184907\n",
      "LOSS train 0.00056222099184907 valid 0.000576983904466033\n",
      "EPOCH 22:\n",
      "Epoch 21 loss: 0.0005385038051802078\n",
      "LOSS train 0.0005385038051802078 valid 0.0005566785112023354\n",
      "EPOCH 23:\n",
      "Epoch 22 loss: 0.0005161398126702271\n",
      "LOSS train 0.0005161398126702271 valid 0.0005626692436635494\n",
      "EPOCH 24:\n",
      "Epoch 23 loss: 0.0004948626441023096\n",
      "LOSS train 0.0004948626441023096 valid 0.0004942493396811187\n",
      "EPOCH 25:\n",
      "Epoch 24 loss: 0.00046779513550437477\n",
      "LOSS train 0.00046779513550437477 valid 0.00047763294423930347\n",
      "EPOCH 26:\n",
      "Epoch 25 loss: 0.0004617158235417526\n",
      "LOSS train 0.0004617158235417526 valid 0.0004962374805472791\n",
      "EPOCH 27:\n",
      "Epoch 26 loss: 0.00044163133612553246\n",
      "LOSS train 0.00044163133612553246 valid 0.00047224253648892045\n",
      "EPOCH 28:\n",
      "Epoch 27 loss: 0.0004270071062508154\n",
      "LOSS train 0.0004270071062508154 valid 0.0004186255391687155\n",
      "EPOCH 29:\n",
      "Epoch 28 loss: 0.0004147920478055611\n",
      "LOSS train 0.0004147920478055611 valid 0.00041162993875332177\n",
      "EPOCH 30:\n",
      "Epoch 29 loss: 0.0004004718939540908\n",
      "LOSS train 0.0004004718939540908 valid 0.00039923726581037045\n",
      "EPOCH 31:\n",
      "Epoch 30 loss: 0.00039160040435253657\n",
      "LOSS train 0.00039160040435253657 valid 0.00038523372495546937\n",
      "EPOCH 32:\n",
      "Epoch 31 loss: 0.00037254822900525155\n",
      "LOSS train 0.00037254822900525155 valid 0.00037362182047218084\n",
      "EPOCH 33:\n",
      "Epoch 32 loss: 0.000370933052929029\n",
      "LOSS train 0.000370933052929029 valid 0.00037832005182281137\n",
      "EPOCH 34:\n",
      "Epoch 33 loss: 0.0003574891314899217\n",
      "LOSS train 0.0003574891314899217 valid 0.00035868556005880237\n",
      "EPOCH 35:\n",
      "Epoch 34 loss: 0.0003497549217060361\n",
      "LOSS train 0.0003497549217060361 valid 0.0003956413420382887\n",
      "EPOCH 36:\n",
      "Epoch 35 loss: 0.0003382102229508048\n",
      "LOSS train 0.0003382102229508048 valid 0.0003412435471545905\n",
      "EPOCH 37:\n",
      "Epoch 36 loss: 0.00032402412233912474\n",
      "LOSS train 0.00032402412233912474 valid 0.0003681662492454052\n",
      "EPOCH 38:\n",
      "Epoch 37 loss: 0.0003214443598041464\n",
      "LOSS train 0.0003214443598041464 valid 0.00032561164698563516\n",
      "EPOCH 39:\n",
      "Epoch 38 loss: 0.00030906449772946995\n",
      "LOSS train 0.00030906449772946995 valid 0.0003204627428203821\n",
      "EPOCH 40:\n",
      "Epoch 39 loss: 0.000297463122453885\n",
      "LOSS train 0.000297463122453885 valid 0.0003111828991677612\n",
      "EPOCH 41:\n",
      "Epoch 40 loss: 0.00029768363520031\n",
      "LOSS train 0.00029768363520031 valid 0.000323329382808879\n",
      "EPOCH 42:\n",
      "Epoch 41 loss: 0.0002901144461285272\n",
      "LOSS train 0.0002901144461285272 valid 0.00034134488669224083\n",
      "EPOCH 43:\n",
      "Epoch 42 loss: 0.00028328724675540724\n",
      "LOSS train 0.00028328724675540724 valid 0.0003045827033929527\n",
      "EPOCH 44:\n",
      "Epoch 43 loss: 0.00027807546824963175\n",
      "LOSS train 0.00027807546824963175 valid 0.0003175599849782884\n",
      "EPOCH 45:\n",
      "Epoch 44 loss: 0.0002771098326575904\n",
      "LOSS train 0.0002771098326575904 valid 0.0003062505857087672\n",
      "EPOCH 46:\n",
      "Epoch 45 loss: 0.00026849599926706964\n",
      "LOSS train 0.00026849599926706964 valid 0.0003018059360329062\n",
      "EPOCH 47:\n",
      "Epoch 46 loss: 0.00025853081592374597\n",
      "LOSS train 0.00025853081592374597 valid 0.0002870919997803867\n",
      "EPOCH 48:\n",
      "Epoch 47 loss: 0.00025447412519173516\n",
      "LOSS train 0.00025447412519173516 valid 0.0002765619719866663\n",
      "EPOCH 49:\n",
      "Epoch 48 loss: 0.0002480402994703195\n",
      "LOSS train 0.0002480402994703195 valid 0.0002863048284780234\n",
      "EPOCH 50:\n",
      "Epoch 49 loss: 0.00024173711027873502\n",
      "LOSS train 0.00024173711027873502 valid 0.00028155106701888144\n",
      "EPOCH 51:\n",
      "Epoch 50 loss: 0.00024035027857043794\n",
      "LOSS train 0.00024035027857043794 valid 0.0003036088601220399\n",
      "EPOCH 52:\n",
      "Epoch 51 loss: 0.00023212931130866022\n",
      "LOSS train 0.00023212931130866022 valid 0.000272851757472381\n",
      "EPOCH 53:\n",
      "Epoch 52 loss: 0.00023223703983479038\n",
      "LOSS train 0.00023223703983479038 valid 0.0002695625298656523\n",
      "EPOCH 54:\n",
      "Epoch 53 loss: 0.00022094564028770012\n",
      "LOSS train 0.00022094564028770012 valid 0.0002687990781851113\n",
      "EPOCH 55:\n",
      "Epoch 54 loss: 0.00022595989189353095\n",
      "LOSS train 0.00022595989189353095 valid 0.0002706866944208741\n",
      "EPOCH 56:\n",
      "Epoch 55 loss: 0.00021906658057809156\n",
      "LOSS train 0.00021906658057809156 valid 0.0002713359717745334\n",
      "EPOCH 57:\n",
      "Epoch 56 loss: 0.0002138882955976392\n",
      "LOSS train 0.0002138882955976392 valid 0.0002649776288308203\n",
      "EPOCH 58:\n",
      "Epoch 57 loss: 0.0002110040464959975\n",
      "LOSS train 0.0002110040464959975 valid 0.0002619060396682471\n",
      "EPOCH 59:\n",
      "Epoch 58 loss: 0.00020883611701620259\n",
      "LOSS train 0.00020883611701620259 valid 0.00029659629217348993\n",
      "EPOCH 60:\n",
      "Epoch 59 loss: 0.00020333288766903013\n",
      "LOSS train 0.00020333288766903013 valid 0.0002631240349728614\n",
      "EPOCH 61:\n",
      "Epoch 60 loss: 0.0002009788943113351\n",
      "LOSS train 0.0002009788943113351 valid 0.0002796923799905926\n",
      "EPOCH 62:\n",
      "Epoch 61 loss: 0.0002054399766876324\n",
      "LOSS train 0.0002054399766876324 valid 0.00026190507924184203\n",
      "EPOCH 63:\n",
      "Epoch 62 loss: 0.00019765516520997713\n",
      "LOSS train 0.00019765516520997713 valid 0.00025833104155026376\n",
      "EPOCH 64:\n",
      "Epoch 63 loss: 0.0001962121160643507\n",
      "LOSS train 0.0001962121160643507 valid 0.00026179334963671863\n",
      "EPOCH 65:\n",
      "Epoch 64 loss: 0.00019129453402742973\n",
      "LOSS train 0.00019129453402742973 valid 0.0002576330734882504\n",
      "EPOCH 66:\n",
      "Epoch 65 loss: 0.0001852674466958078\n",
      "LOSS train 0.0001852674466958078 valid 0.0002551808429416269\n",
      "EPOCH 67:\n",
      "Epoch 66 loss: 0.00018751783589896273\n",
      "LOSS train 0.00018751783589896273 valid 0.00025404090411029756\n",
      "EPOCH 68:\n",
      "Epoch 67 loss: 0.00018379194358976125\n",
      "LOSS train 0.00018379194358976125 valid 0.0002533715742174536\n",
      "EPOCH 69:\n",
      "Epoch 68 loss: 0.00017726296827688253\n",
      "LOSS train 0.00017726296827688253 valid 0.0002588603238109499\n",
      "EPOCH 70:\n",
      "Epoch 69 loss: 0.0001798133350460637\n",
      "LOSS train 0.0001798133350460637 valid 0.000257108302321285\n",
      "EPOCH 71:\n",
      "Epoch 70 loss: 0.00017779435438569635\n",
      "LOSS train 0.00017779435438569635 valid 0.0002579128777142614\n",
      "EPOCH 72:\n",
      "Epoch 71 loss: 0.00017576882875227842\n",
      "LOSS train 0.00017576882875227842 valid 0.0002754328306764364\n",
      "EPOCH 73:\n",
      "Epoch 72 loss: 0.0001750501003897787\n",
      "LOSS train 0.0001750501003897787 valid 0.0002544054004829377\n",
      "EPOCH 74:\n",
      "Epoch 73 loss: 0.00017164194635881035\n",
      "LOSS train 0.00017164194635881035 valid 0.0002556175459176302\n",
      "EPOCH 75:\n",
      "Epoch 74 loss: 0.00017337445881335727\n",
      "LOSS train 0.00017337445881335727 valid 0.0002896541263908148\n",
      "EPOCH 76:\n",
      "Epoch 75 loss: 0.0001676331683060422\n",
      "LOSS train 0.0001676331683060422 valid 0.0002547319163568318\n",
      "EPOCH 77:\n"
     ]
    },
    {
     "name": "stdout",
     "output_type": "stream",
     "text": [
      "Epoch 76 loss: 0.0001641901626374432\n",
      "LOSS train 0.0001641901626374432 valid 0.0002573570527601987\n",
      "EPOCH 78:\n",
      "Epoch 77 loss: 0.00016603022879579628\n",
      "LOSS train 0.00016603022879579628 valid 0.00027027790201827884\n",
      "EPOCH 79:\n",
      "Epoch 78 loss: 0.00016915624989563446\n",
      "LOSS train 0.00016915624989563446 valid 0.0002571005024947226\n",
      "EPOCH 80:\n",
      "Epoch 79 loss: 0.0001641863302011936\n",
      "LOSS train 0.0001641863302011936 valid 0.0002506989403627813\n"
     ]
    }
   ],
   "source": [
    "train(autoencoder_skip, 'skip_autoencoder_pytorch_model')"
   ]
  },
  {
   "cell_type": "code",
   "execution_count": 19,
   "id": "f020c41a",
   "metadata": {},
   "outputs": [
    {
     "data": {
      "text/plain": [
       "<All keys matched successfully>"
      ]
     },
     "execution_count": 19,
     "metadata": {},
     "output_type": "execute_result"
    }
   ],
   "source": [
    "saved_model = AutoEncoder_skip(img_shape = (3,28,28),code_size  = z_dim) \n",
    "saved_model.load_state_dict(torch.load('skip_autoencoder_pytorch_model'))"
   ]
  },
  {
   "cell_type": "code",
   "execution_count": 20,
   "id": "85bd41c8",
   "metadata": {},
   "outputs": [
    {
     "name": "stdout",
     "output_type": "stream",
     "text": [
      "LOSS test 0.0002527898468542844\n"
     ]
    }
   ],
   "source": [
    "running_tloss = 0.0\n",
    "for i, tdata in enumerate(test_loader):\n",
    "    tinputs, tlabels = tdata\n",
    "    toutputs = saved_model(tinputs)\n",
    "    tloss = loss_fn(toutputs, tinputs)\n",
    "    running_tloss += tloss\n",
    "\n",
    "avg_tloss = running_tloss / (i + 1)\n",
    "print('LOSS test {}'.format(avg_tloss))"
   ]
  },
  {
   "cell_type": "code",
   "execution_count": 22,
   "id": "78167695",
   "metadata": {},
   "outputs": [
    {
     "data": {
      "image/png": "[encoded data removed]",
      "text/plain": [
       "<Figure size 432x288 with 1 Axes>"
      ]
     },
     "metadata": {
      "needs_background": "light"
     },
     "output_type": "display_data"
    },
    {
     "name": "stderr",
     "output_type": "stream",
     "text": [
      "Clipping input data to the valid range for imshow with RGB data ([0..1] for floats or [0..255] for integers).\n"
     ]
    },
    {
     "data": {
      "image/png": "[encoded data removed]",
      "text/plain": [
       "<Figure size 432x288 with 1 Axes>"
      ]
     },
     "metadata": {
      "needs_background": "light"
     },
     "output_type": "display_data"
    }
   ],
   "source": [
    "import matplotlib.pyplot as plt\n",
    "for i, l in test_loader:\n",
    "    o = saved_model(i)\n",
    "    plt.imshow(i[0].permute(1, 2, 0))\n",
    "    plt.show()\n",
    "    plt.imshow(o[0].permute(1, 2, 0).detach().numpy())\n",
    "    plt.show()\n",
    "    break\n",
    "    "
   ]
  },
  {
   "cell_type": "code",
   "execution_count": null,
   "id": "bd3f0cf3",
   "metadata": {},
   "outputs": [],
   "source": []
  }
 ],
 "metadata": {
  "kernelspec": {
   "display_name": "Python 3 (ipykernel)",
   "language": "python",
   "name": "python3"
  },
  "language_info": {
   "codemirror_mode": {
    "name": "ipython",
    "version": 3
   },
   "file_extension": ".py",
   "mimetype": "text/x-python",
   "name": "python",
   "nbconvert_exporter": "python",
   "pygments_lexer": "ipython3",
   "version": "3.8.16"
  }
 },
 "nbformat": 4,
 "nbformat_minor": 5
}
